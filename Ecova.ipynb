{
 "cells": [
  {
   "cell_type": "code",
   "execution_count": 1,
   "metadata": {
    "colab": {},
    "colab_type": "code",
    "id": "V04RoGaecd3r"
   },
   "outputs": [
    {
     "ename": "ModuleNotFoundError",
     "evalue": "No module named 'google.colab'",
     "output_type": "error",
     "traceback": [
      "\u001b[1;31m---------------------------------------------------------------------------\u001b[0m",
      "\u001b[1;31mModuleNotFoundError\u001b[0m                       Traceback (most recent call last)",
      "\u001b[1;32m<ipython-input-1-f045e1081d89>\u001b[0m in \u001b[0;36m<module>\u001b[1;34m\u001b[0m\n\u001b[1;32m----> 1\u001b[1;33m \u001b[1;32mfrom\u001b[0m \u001b[0mgoogle\u001b[0m\u001b[1;33m.\u001b[0m\u001b[0mcolab\u001b[0m \u001b[1;32mimport\u001b[0m \u001b[0mdrive\u001b[0m\u001b[1;33m\u001b[0m\u001b[1;33m\u001b[0m\u001b[0m\n\u001b[0m",
      "\u001b[1;31mModuleNotFoundError\u001b[0m: No module named 'google.colab'"
     ]
    }
   ],
   "source": [
    "from google.colab import drive"
   ]
  },
  {
   "cell_type": "code",
   "execution_count": 115,
   "metadata": {
    "colab": {
     "base_uri": "https://localhost:8080/",
     "height": 34
    },
    "colab_type": "code",
    "id": "233aLfbVeR-i",
    "outputId": "c1bc7323-11f4-4503-fb3f-ba72c60b671b"
   },
   "outputs": [
    {
     "name": "stdout",
     "output_type": "stream",
     "text": [
      "Drive already mounted at /content/drive/; to attempt to forcibly remount, call drive.mount(\"/content/drive/\", force_remount=True).\n"
     ]
    }
   ],
   "source": [
    "drive.mount('/content/drive/')"
   ]
  },
  {
   "cell_type": "code",
   "execution_count": 0,
   "metadata": {
    "colab": {},
    "colab_type": "code",
    "id": "mqn_MPs-eUzs"
   },
   "outputs": [],
   "source": [
    "#Changing directory\n",
    "import os\n",
    "os.chdir('/content/drive/My Drive/Colab Notebooks/Waste/')"
   ]
  },
  {
   "cell_type": "code",
   "execution_count": 117,
   "metadata": {
    "colab": {
     "base_uri": "https://localhost:8080/",
     "height": 34
    },
    "colab_type": "code",
    "id": "QV1MhoKaeqHP",
    "outputId": "8f30c247-f6ad-4562-b44f-926265724fb9"
   },
   "outputs": [
    {
     "name": "stdout",
     "output_type": "stream",
     "text": [
      "ecomodel.h5  model.h5  tests  train  Untitled.ipynb\n"
     ]
    }
   ],
   "source": [
    "!ls"
   ]
  },
  {
   "cell_type": "code",
   "execution_count": 0,
   "metadata": {
    "colab": {},
    "colab_type": "code",
    "id": "0i6duufwe5qp"
   },
   "outputs": [],
   "source": [
    "from IPython.display import Image  #Library for displaying images"
   ]
  },
  {
   "cell_type": "code",
   "execution_count": 0,
   "metadata": {
    "colab": {},
    "colab_type": "code",
    "id": "grXjyXE0gk7G"
   },
   "outputs": [],
   "source": [
    "#Display sample train images"
   ]
  },
  {
   "cell_type": "code",
   "execution_count": 120,
   "metadata": {
    "colab": {
     "base_uri": "https://localhost:8080/",
     "height": 34
    },
    "colab_type": "code",
    "id": "8d8zMThJfB_h",
    "outputId": "463e565b-275c-4b3b-e6f2-44abdfc4bbe4"
   },
   "outputs": [
    {
     "data": {
      "image/png": "train/Plastic_bottle/btt21.jpg",
      "text/plain": [
       "<IPython.core.display.Image object>"
      ]
     },
     "execution_count": 120,
     "metadata": {
      "tags": []
     },
     "output_type": "execute_result"
    }
   ],
   "source": [
    "Image('train/Plastic_bottle/btt21.jpg')"
   ]
  },
  {
   "cell_type": "code",
   "execution_count": 121,
   "metadata": {
    "colab": {
     "base_uri": "https://localhost:8080/",
     "height": 34
    },
    "colab_type": "code",
    "id": "qlLl83Ryfgj3",
    "outputId": "65d2cbbe-8f70-43a4-897a-e83938f60efa"
   },
   "outputs": [
    {
     "data": {
      "image/png": "train/Sachet/s18.jpg",
      "text/plain": [
       "<IPython.core.display.Image object>"
      ]
     },
     "execution_count": 121,
     "metadata": {
      "tags": []
     },
     "output_type": "execute_result"
    }
   ],
   "source": [
    "Image('train/Sachet/s18.jpg')"
   ]
  },
  {
   "cell_type": "code",
   "execution_count": 122,
   "metadata": {
    "colab": {
     "base_uri": "https://localhost:8080/",
     "height": 34
    },
    "colab_type": "code",
    "id": "vkarWxIuf2so",
    "outputId": "9ac7f834-242b-4419-d8de-82e9a3905a2e"
   },
   "outputs": [
    {
     "data": {
      "image/png": "train/Paper/ptt10.jpg",
      "text/plain": [
       "<IPython.core.display.Image object>"
      ]
     },
     "execution_count": 122,
     "metadata": {
      "tags": []
     },
     "output_type": "execute_result"
    }
   ],
   "source": [
    "Image('train/Paper/ptt10.jpg')"
   ]
  },
  {
   "cell_type": "code",
   "execution_count": 123,
   "metadata": {
    "colab": {
     "base_uri": "https://localhost:8080/",
     "height": 302
    },
    "colab_type": "code",
    "id": "uo0xfZergJM0",
    "outputId": "8f2894be-bd82-4094-ec3e-800b6366ce2a"
   },
   "outputs": [
    {
     "data": {
      "image/jpeg": "[encoded data removed]",
      "text/plain": [
       "<IPython.core.display.Image object>"
      ]
     },
     "execution_count": 123,
     "metadata": {
      "tags": []
     },
     "output_type": "execute_result"
    }
   ],
   "source": [
    "Image('train/polythene/po6.jpg')"
   ]
  },
  {
   "cell_type": "code",
   "execution_count": 0,
   "metadata": {
    "colab": {},
    "colab_type": "code",
    "id": "JNh3j9RBjG99"
   },
   "outputs": [],
   "source": [
    "# Importing models"
   ]
  },
  {
   "cell_type": "code",
   "execution_count": 0,
   "metadata": {
    "colab": {},
    "colab_type": "code",
    "id": "6tYPVw0ogV69"
   },
   "outputs": [],
   "source": [
    "import tensorflow\n",
    "from tensorflow import keras\n",
    "from tensorflow.keras.models import Sequential\n",
    "from tensorflow.keras.layers import Conv2D, MaxPooling2D, Flatten, Dense"
   ]
  },
  {
   "cell_type": "code",
   "execution_count": 0,
   "metadata": {
    "colab": {},
    "colab_type": "code",
    "id": "EHDX7tjvgiy-"
   },
   "outputs": [],
   "source": [
    "model = Sequential([\n",
    "    Conv2D(32, (3,3), input_shape=(64,64,3), activation='relu'),    \n",
    "    MaxPooling2D(pool_size=(2,2)),     \n",
    "    Conv2D(32, (3,3), activation='relu'), \n",
    "    MaxPooling2D(pool_size=(2,2)), \n",
    "    Flatten(),       \n",
    "    Dense(128, activation='relu'),    \n",
    "    Dense(4, activation='softmax')   \n",
    "])"
   ]
  },
  {
   "cell_type": "code",
   "execution_count": 0,
   "metadata": {
    "colab": {},
    "colab_type": "code",
    "id": "RcsJueBrqokQ"
   },
   "outputs": [],
   "source": [
    "#Compiling"
   ]
  },
  {
   "cell_type": "code",
   "execution_count": 0,
   "metadata": {
    "colab": {},
    "colab_type": "code",
    "id": "XXb0DUaZg5g4"
   },
   "outputs": [],
   "source": [
    "model.compile(optimizer='adam',    #optimizer changes the weight and bias and recalculates per each iteration\n",
    "                 loss='sparse_categorical_crossentropy',\n",
    "                 metrics=['accuracy']\n",
    ")"
   ]
  },
  {
   "cell_type": "code",
   "execution_count": 0,
   "metadata": {
    "colab": {},
    "colab_type": "code",
    "id": "AcYYn11shN-m"
   },
   "outputs": [],
   "source": [
    "from tensorflow.keras.preprocessing.image import ImageDataGenerator"
   ]
  },
  {
   "cell_type": "code",
   "execution_count": 130,
   "metadata": {
    "colab": {
     "base_uri": "https://localhost:8080/",
     "height": 51
    },
    "colab_type": "code",
    "id": "pVZZHTORhTme",
    "outputId": "08ff639c-805c-4fbe-a854-dc2a2010eee6"
   },
   "outputs": [
    {
     "name": "stdout",
     "output_type": "stream",
     "text": [
      "Found 96 images belonging to 4 classes.\n",
      "Found 48 images belonging to 4 classes.\n"
     ]
    }
   ],
   "source": [
    "train_data = ImageDataGenerator(\n",
    "                                rescale=1./255,\n",
    "                                shear_range=0.2,  \n",
    "                                zoom_range=0.2,\n",
    "                                horizontal_flip=True    \n",
    "                               )    \n",
    "\n",
    "test_data = ImageDataGenerator(rescale=1./255)    \n",
    "\n",
    "train_data = train_data.flow_from_directory('train', target_size=(64,64), batch_size=32, class_mode='binary')  \n",
    "\n",
    "test_data = test_data.flow_from_directory('tests', target_size=(64,64), batch_size=32, class_mode='binary')"
   ]
  },
  {
   "cell_type": "code",
   "execution_count": 0,
   "metadata": {
    "colab": {},
    "colab_type": "code",
    "id": "pfU8c32rhdWh"
   },
   "outputs": [],
   "source": [
    "#Training the model"
   ]
  },
  {
   "cell_type": "code",
   "execution_count": 134,
   "metadata": {
    "colab": {
     "base_uri": "https://localhost:8080/",
     "height": 1000
    },
    "colab_type": "code",
    "id": "0RKrDcnQjAVF",
    "outputId": "308fdbd5-8838-4e09-f322-a10e8484a960"
   },
   "outputs": [
    {
     "name": "stdout",
     "output_type": "stream",
     "text": [
      "Epoch 1/40\n",
      "3/3 [==============================] - 1s 402ms/step - loss: 0.1431 - acc: 0.9792\n",
      "Epoch 2/40\n",
      "3/3 [==============================] - 1s 420ms/step - loss: 0.2585 - acc: 0.9062\n",
      "Epoch 3/40\n",
      "3/3 [==============================] - 1s 384ms/step - loss: 0.3553 - acc: 0.8438\n",
      "Epoch 4/40\n",
      "3/3 [==============================] - 1s 368ms/step - loss: 0.2065 - acc: 0.9375\n",
      "Epoch 5/40\n",
      "3/3 [==============================] - 1s 397ms/step - loss: 0.3460 - acc: 0.9062\n",
      "Epoch 6/40\n",
      "3/3 [==============================] - 1s 396ms/step - loss: 0.3710 - acc: 0.8542\n",
      "Epoch 7/40\n",
      "3/3 [==============================] - 1s 410ms/step - loss: 0.2236 - acc: 0.9479\n",
      "Epoch 8/40\n",
      "3/3 [==============================] - 1s 356ms/step - loss: 0.2361 - acc: 0.9271\n",
      "Epoch 9/40\n",
      "3/3 [==============================] - 1s 396ms/step - loss: 0.2173 - acc: 0.9167\n",
      "Epoch 10/40\n",
      "3/3 [==============================] - 1s 388ms/step - loss: 0.2002 - acc: 0.9271\n",
      "Epoch 11/40\n",
      "3/3 [==============================] - 1s 395ms/step - loss: 0.1650 - acc: 0.9688\n",
      "Epoch 12/40\n",
      "3/3 [==============================] - 1s 380ms/step - loss: 0.1792 - acc: 0.9583\n",
      "Epoch 13/40\n",
      "3/3 [==============================] - 1s 395ms/step - loss: 0.1261 - acc: 0.9792\n",
      "Epoch 14/40\n",
      "3/3 [==============================] - 1s 374ms/step - loss: 0.1487 - acc: 0.9479\n",
      "Epoch 15/40\n",
      "3/3 [==============================] - 1s 398ms/step - loss: 0.1043 - acc: 0.9792\n",
      "Epoch 16/40\n",
      "3/3 [==============================] - 1s 407ms/step - loss: 0.0941 - acc: 0.9792\n",
      "Epoch 17/40\n",
      "3/3 [==============================] - 1s 385ms/step - loss: 0.1224 - acc: 0.9688\n",
      "Epoch 18/40\n",
      "3/3 [==============================] - 1s 367ms/step - loss: 0.0987 - acc: 0.9688\n",
      "Epoch 19/40\n",
      "3/3 [==============================] - 1s 400ms/step - loss: 0.1187 - acc: 0.9583\n",
      "Epoch 20/40\n",
      "3/3 [==============================] - 1s 384ms/step - loss: 0.0779 - acc: 0.9792\n",
      "Epoch 21/40\n",
      "3/3 [==============================] - 1s 388ms/step - loss: 0.0649 - acc: 1.0000\n",
      "Epoch 22/40\n",
      "3/3 [==============================] - 1s 383ms/step - loss: 0.0791 - acc: 0.9896\n",
      "Epoch 23/40\n",
      "3/3 [==============================] - 1s 395ms/step - loss: 0.0751 - acc: 0.9896\n",
      "Epoch 24/40\n",
      "3/3 [==============================] - 1s 386ms/step - loss: 0.0764 - acc: 0.9792\n",
      "Epoch 25/40\n",
      "3/3 [==============================] - 1s 416ms/step - loss: 0.0841 - acc: 0.9688\n",
      "Epoch 26/40\n",
      "3/3 [==============================] - 1s 386ms/step - loss: 0.0525 - acc: 0.9896\n",
      "Epoch 27/40\n",
      "3/3 [==============================] - 1s 394ms/step - loss: 0.0697 - acc: 0.9792\n",
      "Epoch 28/40\n",
      "3/3 [==============================] - 1s 416ms/step - loss: 0.0927 - acc: 0.9583\n",
      "Epoch 29/40\n",
      "3/3 [==============================] - 1s 396ms/step - loss: 0.0685 - acc: 0.9792\n",
      "Epoch 30/40\n",
      "3/3 [==============================] - 1s 387ms/step - loss: 0.0468 - acc: 1.0000\n",
      "Epoch 31/40\n",
      "3/3 [==============================] - 1s 394ms/step - loss: 0.0537 - acc: 0.9792\n",
      "Epoch 32/40\n",
      "3/3 [==============================] - 1s 415ms/step - loss: 0.0736 - acc: 0.9896\n",
      "Epoch 33/40\n",
      "3/3 [==============================] - 1s 362ms/step - loss: 0.0585 - acc: 0.9896\n",
      "Epoch 34/40\n",
      "3/3 [==============================] - 1s 376ms/step - loss: 0.0644 - acc: 0.9792\n",
      "Epoch 35/40\n",
      "3/3 [==============================] - 1s 394ms/step - loss: 0.0440 - acc: 0.9896\n",
      "Epoch 36/40\n",
      "3/3 [==============================] - 1s 366ms/step - loss: 0.0938 - acc: 0.9792\n",
      "Epoch 37/40\n",
      "3/3 [==============================] - 1s 406ms/step - loss: 0.0623 - acc: 0.9896\n",
      "Epoch 38/40\n",
      "3/3 [==============================] - 1s 405ms/step - loss: 0.0693 - acc: 0.9896\n",
      "Epoch 39/40\n",
      "3/3 [==============================] - 1s 380ms/step - loss: 0.0928 - acc: 0.9792\n",
      "Epoch 40/40\n",
      "3/3 [==============================] - 1s 367ms/step - loss: 0.0542 - acc: 1.0000\n"
     ]
    },
    {
     "data": {
      "text/plain": [
       "<tensorflow.python.keras.callbacks.History at 0x7f2fd73e22b0>"
      ]
     },
     "execution_count": 134,
     "metadata": {
      "tags": []
     },
     "output_type": "execute_result"
    }
   ],
   "source": [
    "model.fit_generator(train_data, epochs=40)"
   ]
  },
  {
   "cell_type": "code",
   "execution_count": 0,
   "metadata": {
    "colab": {},
    "colab_type": "code",
    "id": "5_f8j-oPpQLS"
   },
   "outputs": [],
   "source": [
    "# Prediction"
   ]
  },
  {
   "cell_type": "code",
   "execution_count": 0,
   "metadata": {
    "colab": {},
    "colab_type": "code",
    "id": "xX-dsBcMjBJb"
   },
   "outputs": [],
   "source": [
    "from tensorflow.keras.preprocessing import image"
   ]
  },
  {
   "cell_type": "code",
   "execution_count": 0,
   "metadata": {
    "colab": {},
    "colab_type": "code",
    "id": "aoxlKRuTodng"
   },
   "outputs": [],
   "source": [
    "test_image = image.load_img('tests/plastic_bottle/btt12.jpg', target_size=(64,64))  \n",
    "test_image = image.img_to_array(test_image)   \n",
    "\n",
    "import numpy as np\n",
    "test_image = np.expand_dims(test_image, axis=0)"
   ]
  },
  {
   "cell_type": "code",
   "execution_count": 0,
   "metadata": {
    "colab": {},
    "colab_type": "code",
    "id": "aO3zkCRqozqx"
   },
   "outputs": [],
   "source": [
    "prediction = model.predict(test_image)[0]"
   ]
  },
  {
   "cell_type": "code",
   "execution_count": 138,
   "metadata": {
    "colab": {
     "base_uri": "https://localhost:8080/",
     "height": 34
    },
    "colab_type": "code",
    "id": "w4wjM7TVpBNW",
    "outputId": "8fd3923d-7f7e-445b-a5a7-705296005caf"
   },
   "outputs": [
    {
     "name": "stdout",
     "output_type": "stream",
     "text": [
      "[0. 1. 0. 0.]\n"
     ]
    }
   ],
   "source": [
    "print(prediction)"
   ]
  },
  {
   "cell_type": "code",
   "execution_count": 143,
   "metadata": {
    "colab": {
     "base_uri": "https://localhost:8080/",
     "height": 34
    },
    "colab_type": "code",
    "id": "igS9_9OqpE9i",
    "outputId": "b06b464d-61ae-4754-f0e0-422102a1d3a4"
   },
   "outputs": [
    {
     "name": "stdout",
     "output_type": "stream",
     "text": [
      "plastic_bottle\n"
     ]
    }
   ],
   "source": [
    "if prediction[0] == 1.0:   \n",
    "  print('paper')\n",
    "elif prediction[1] == 1.0:\n",
    "  print('plastic_bottle')\n",
    "elif prediction[2] == 1.0: \n",
    "  print('polythene')\n",
    "else:\n",
    "  print('sachet')"
   ]
  },
  {
   "cell_type": "code",
   "execution_count": 0,
   "metadata": {
    "colab": {},
    "colab_type": "code",
    "id": "XAcs8sNnpWmK"
   },
   "outputs": [],
   "source": [
    "model.save('ecomodel.h5')"
   ]
  },
  {
   "cell_type": "code",
   "execution_count": 0,
   "metadata": {
    "colab": {},
    "colab_type": "code",
    "id": "fAj-cg4s0CFJ"
   },
   "outputs": [],
   "source": []
  },
  {
   "cell_type": "code",
   "execution_count": 0,
   "metadata": {
    "colab": {},
    "colab_type": "code",
    "id": "_YMlBL5H0EBx"
   },
   "outputs": [],
   "source": [
    "#Computer Vision"
   ]
  },
  {
   "cell_type": "code",
   "execution_count": 0,
   "metadata": {
    "colab": {},
    "colab_type": "code",
    "id": "bIJuZSmwxVbM"
   },
   "outputs": [],
   "source": [
    "import cv2"
   ]
  },
  {
   "cell_type": "code",
   "execution_count": 0,
   "metadata": {
    "colab": {},
    "colab_type": "code",
    "id": "waNbzNqyz8K7"
   },
   "outputs": [],
   "source": [
    "from tensorflow.keras.models import load_model"
   ]
  },
  {
   "cell_type": "code",
   "execution_count": 0,
   "metadata": {
    "colab": {},
    "colab_type": "code",
    "id": "jPAQYDgX2Z62"
   },
   "outputs": [],
   "source": [
    "import numpy as np"
   ]
  },
  {
   "cell_type": "code",
   "execution_count": 0,
   "metadata": {
    "colab": {},
    "colab_type": "code",
    "id": "yLXqnZze2c-u"
   },
   "outputs": [],
   "source": [
    "from keras.preprocessing import image"
   ]
  },
  {
   "cell_type": "code",
   "execution_count": 0,
   "metadata": {
    "colab": {},
    "colab_type": "code",
    "id": "0bNtunCG2fHe"
   },
   "outputs": [],
   "source": [
    "model = load_model('ecomodel.h5')"
   ]
  },
  {
   "cell_type": "code",
   "execution_count": 0,
   "metadata": {
    "colab": {},
    "colab_type": "code",
    "id": "ELwNthm62pjG"
   },
   "outputs": [],
   "source": [
    "cap = cv2.VideoCapture(0)"
   ]
  },
  {
   "cell_type": "code",
   "execution_count": 153,
   "metadata": {
    "colab": {
     "base_uri": "https://localhost:8080/",
     "height": 231
    },
    "colab_type": "code",
    "id": "-5-953Yx21oN",
    "outputId": "6fd7a7c7-ecc5-4440-d767-418a23063e3f"
   },
   "outputs": [
    {
     "ename": "error",
     "evalue": "ignored",
     "output_type": "error",
     "traceback": [
      "\u001b[0;31m---------------------------------------------------------------------------\u001b[0m",
      "\u001b[0;31merror\u001b[0m                                     Traceback (most recent call last)",
      "\u001b[0;32m<ipython-input-153-eee828f32572>\u001b[0m in \u001b[0;36m<module>\u001b[0;34m()\u001b[0m\n\u001b[1;32m      2\u001b[0m     \u001b[0mcheck\u001b[0m\u001b[0;34m,\u001b[0m \u001b[0mframe\u001b[0m \u001b[0;34m=\u001b[0m \u001b[0mcap\u001b[0m\u001b[0;34m.\u001b[0m\u001b[0mread\u001b[0m\u001b[0;34m(\u001b[0m\u001b[0;34m)\u001b[0m\u001b[0;34m\u001b[0m\u001b[0;34m\u001b[0m\u001b[0m\n\u001b[1;32m      3\u001b[0m \u001b[0;34m\u001b[0m\u001b[0m\n\u001b[0;32m----> 4\u001b[0;31m     \u001b[0mgray\u001b[0m \u001b[0;34m=\u001b[0m \u001b[0mcv2\u001b[0m\u001b[0;34m.\u001b[0m\u001b[0mcvtColor\u001b[0m\u001b[0;34m(\u001b[0m\u001b[0mframe\u001b[0m\u001b[0;34m,\u001b[0m \u001b[0mcv2\u001b[0m\u001b[0;34m.\u001b[0m\u001b[0mCOLOR_BGR2GRAY\u001b[0m\u001b[0;34m)\u001b[0m\u001b[0;34m\u001b[0m\u001b[0;34m\u001b[0m\u001b[0m\n\u001b[0m\u001b[1;32m      5\u001b[0m \u001b[0;34m\u001b[0m\u001b[0m\n\u001b[1;32m      6\u001b[0m     \u001b[0;32mif\u001b[0m \u001b[0mnp\u001b[0m\u001b[0;34m.\u001b[0m\u001b[0margmax\u001b[0m\u001b[0;34m(\u001b[0m\u001b[0mresult\u001b[0m\u001b[0;34m,\u001b[0m \u001b[0maxis\u001b[0m\u001b[0;34m=\u001b[0m\u001b[0;36m1\u001b[0m\u001b[0;34m)\u001b[0m \u001b[0;34m==\u001b[0m \u001b[0;36m0\u001b[0m\u001b[0;34m:\u001b[0m\u001b[0;34m\u001b[0m\u001b[0;34m\u001b[0m\u001b[0m\n",
      "\u001b[0;31merror\u001b[0m: OpenCV(3.4.3) /io/opencv/modules/imgproc/src/color.cpp:181: error: (-215:Assertion failed) !_src.empty() in function 'cvtColor'\n"
     ]
    }
   ],
   "source": [
    "while True:\n",
    "    check, frame = cap.read()\n",
    "\n",
    "    gray = cv2.cvtColor(frame, cv2.COLOR_BGR2GRAY)\n",
    "    \n",
    "    if np.argmax(result, axis=1) == 0:\n",
    "            cv2.putText(frame, 'paper', (x,y), cv2.FONT_HERSHEY_SIMPLEX, 2, cv2.LINE_AA)\n",
    "    elif np.argmax(result, axis=1) == 1:\n",
    "            cv2.putText(frame, 'plastic_bottle', (x,y), cv2.FONT_HERSHEY_SIMPLEX, 2, cv2.LINE_AA) \n",
    "    elif np.argmax(result, axis=1) == 2:\n",
    "            cv2.putText(frame, 'polythene', (x,y), cv2.FONT_HERSHEY_SIMPLEX, 2, cv2.LINE_AA)      \n",
    "    else:\n",
    "         cv2.putText(frame, 'sachet', (x,y), cv2.FONT_HERSHEY_SIMPLEX, 2, cv2.LINE_AA)\n",
    "           \n",
    "\n",
    "         cv2.rectangle(frame, (x,y), (x+w, y+h), (0,255,0), 2)\n",
    "        \n",
    "cv2.imshow('frame',frame)\n",
    "if cv2.waitKey(20) & 0xFF == ord('q'):\n",
    "        break        "
   ]
  },
  {
   "cell_type": "code",
   "execution_count": 0,
   "metadata": {
    "colab": {},
    "colab_type": "code",
    "id": "T1UHDzoL6Llv"
   },
   "outputs": [],
   "source": []
  }
 ],
 "metadata": {
  "colab": {
   "collapsed_sections": [],
   "name": "Ecova.ipynb",
   "provenance": [],
   "version": "0.3.2"
  },
  "kernelspec": {
   "display_name": "Python 3",
   "language": "python",
   "name": "python3"
  },
  "language_info": {
   "codemirror_mode": {
    "name": "ipython",
    "version": 3
   },
   "file_extension": ".py",
   "mimetype": "text/x-python",
   "name": "python",
   "nbconvert_exporter": "python",
   "pygments_lexer": "ipython3",
   "version": "3.7.3"
  }
 },
 "nbformat": 4,
 "nbformat_minor": 1
}
